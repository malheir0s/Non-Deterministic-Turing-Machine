{
 "cells": [
  {
   "cell_type": "markdown",
   "id": "infectious-commander",
   "metadata": {},
   "source": [
    "## Este algoritmo realiza a simulação de uma Maquina de Turing não Determinista. É de fundamental importância para consolidar os conceitos de Máquina de Turing e Linguagem Recursivamente Enuméravel. Com este algoritmo, é possível validar se determinada MT aceita ou não alguma palavra w. "
   ]
  },
  {
   "cell_type": "code",
   "execution_count": null,
   "id": "indian-teens",
   "metadata": {},
   "outputs": [],
   "source": [
    "class Linguagem:\n",
    "    def __init__(self):\n",
    "        self.estados = []\n",
    "        self.simbolos = []\n",
    "        self.alfabetoPilha = []\n",
    "        self.dicionario = dict()\n",
    "        self.palavrasTeste = []\n",
    "        self.estadosFinais = []\n",
    "        self.pilhaTransicoes = []\n",
    "        self.limitanteEsquerda = ''\n",
    "        self.simboloBranco = ''"
   ]
  },
  {
   "cell_type": "markdown",
   "id": "marine-signal",
   "metadata": {},
   "source": [
    "#### O Algoritmo terá uma única instância da classe Linguagem, que armazenará: \n",
    "##### - os estados da MT,\n",
    "##### - os símbolos que a fita reconhece, \n",
    "##### - o alfabeto de caracteres que a pilha reconhece,\n",
    "##### - o dicionário -> transições que a MT reconhece \n",
    "##### - as palavras de teste que irá receber, \n",
    "##### - uma pilha de transições -> dado um estado E e um símbolo da fita S, se existir mais de um possível estado futuro para <E,S>, haverão bifurcações, que serão armazenados na pilha de transições. Cada um dos elementos dessa pilha terá seu próprio estado atual, sua própria configuração da fita, e a posição do cabeçote de leitura. ,\n",
    "##### - o símbolo que limita a fita à esquerda,\n",
    "##### - o símbolo que representa o símbolo branco na fita"
   ]
  },
  {
   "cell_type": "code",
   "execution_count": null,
   "id": "partial-nutrition",
   "metadata": {},
   "outputs": [],
   "source": [
    "def lerTransicoes(self, num):\n",
    "        for i in range (0, num):\n",
    "            transicoes = input().split()\n",
    "            self.criarDicionario(transicoes)\n"
   ]
  },
  {
   "cell_type": "code",
   "execution_count": null,
   "id": "authorized-variation",
   "metadata": {},
   "outputs": [],
   "source": [
    "def criarDicionario(self, transicoes):\n",
    "        dupla = transicoes[0]+transicoes[1]\n",
    "        if(dupla in self.dicionario):\n",
    "            self.dicionario[dupla] = self.dicionario[dupla] + [[transicoes[2],transicoes[3], transicoes[4]]]\n",
    "        else:\n",
    "            novaTransicao = {transicoes[0]+transicoes[1]:[[transicoes[2],transicoes[3], transicoes[4]]]}"
   ]
  },
  {
   "cell_type": "markdown",
   "id": "requested-collapse",
   "metadata": {},
   "source": [
    "#### Após ler uma transição, é criado uma tupla onde a chave é [estado+símboloLidoNaFita] e o valor armazenado é um vetor. Esse vetor armazena outros vetores, onde cada elemento é um outro vetor que SEMPRE irá conter 3 elementos: [estadoDestino, símboloEscritoNaFita+moverCabecoteDirecao]. É aqui que possibilida o não-determinismo ser armazenado. Em um estado que possui mais de uma possibilidade de transição ao ler determinado símbolo, este vetor terá tamanho maior que 1."
   ]
  },
  {
   "cell_type": "code",
   "execution_count": null,
   "id": "ambient-corner",
   "metadata": {},
   "outputs": [],
   "source": [
    "def escrever(self, fita, caractere, registrador):\n",
    "        nova_fita = fita.copy()\n",
    "        nova_fita[registrador] = caractere\n",
    "        return nova_fita"
   ]
  },
  {
   "cell_type": "code",
   "execution_count": null,
   "id": "approved-fitting",
   "metadata": {},
   "outputs": [],
   "source": [
    "def mover(self, fita, registrador, direcao):\n",
    "      if(direcao == 'I'):\n",
    "        return registrador\n",
    "      elif(direcao == 'E'):\n",
    "        if(registrador == 0):\n",
    "            return registrador\n",
    "        return registrador - 1\n",
    "      elif(direcao == 'D'):\n",
    "        if(len(fita)-1 == registrador):\n",
    "            fita.append(self.simboloBranco)\n",
    "        return  registrador + 1\n"
   ]
  },
  {
   "cell_type": "markdown",
   "id": "lonely-working",
   "metadata": {},
   "source": [
    "##### O registrador nunca pode ter valor menor que 0, pois é limitado a esquerda. Porém, ele pode ter qualquer valor acima de 0. Para isso, é necessário verificar sempre o tamanho da lista atualmente. Caso o registrador chegue ao final da lista e tente se mover para a direita, antes disso é feito um append de um simboloBranco na lista."
   ]
  },
  {
   "cell_type": "code",
   "execution_count": null,
   "id": "brazilian-prize",
   "metadata": {},
   "outputs": [],
   "source": [
    "def validarTransicao(self, estadoAtual, fita, registrador, pilhaTransicoes):\n",
    "        parou = True\n",
    "        caractereLido = fita[registrador]\n",
    "        if((estadoAtual+caractereLido) in self.dicionario):\n",
    "            parou = False\n",
    "            duplas = self.dicionario.get(estadoAtual+caractereLido)\n",
    "            for dupla in duplas:\n",
    "                novoRegistrador = self.mover(fita, registrador, dupla[2])\n",
    "                pilhaTransicoes.append([dupla[0], self.escrever(fita, dupla[1], registrador), novoRegistrador])\n",
    "        return parou"
   ]
  },
  {
   "cell_type": "markdown",
   "id": "unsigned-spotlight",
   "metadata": {},
   "source": [
    "#### O registrador armazena o índice da fita a ser lido. Toda vez que for validar a transição, será feito a busca de uma transição no dicionário. Caso ache alguma transição, significa que ele não irá parar, então parou se torna False, e a busca irá retornar um vetor, onde cada elemento será do tipo [estadoDestino, símboloEscritoNaFita+moverCabecoteDirecao]. Assim, é preciso fazer uma iteração nesse vetor, passando para a pilha de Transições seus respectivos estados, configuração da fita, e registrador. Vale ressaltar que é necessário passar esses novos valores para a pilha de transições sem alterar a configuração atual da MT, por isso que é chamado as funções escrever e mover, porque eles retornam um novo valor da fita e do registrador (para serem inseridas na pilhaTransicoes), respectivamente."
   ]
  },
  {
   "cell_type": "code",
   "execution_count": null,
   "id": "focal-indiana",
   "metadata": {},
   "outputs": [],
   "source": [
    " def isAccepted(self, estado, parou):\n",
    "    if(parou and estado in self.estadosFinais):\n",
    "        return True\n",
    "    else:\n",
    "        return False"
   ]
  },
  {
   "cell_type": "code",
   "execution_count": null,
   "id": "trying-chick",
   "metadata": {},
   "outputs": [],
   "source": [
    "def percorrerPilhaTransicoes(self, palavra, estadoInicial):\n",
    "        fita = list(palavra)\n",
    "        fita.insert(0, self.limitanteEsquerda)\n",
    "        fita.append(self.simboloBranco)\n",
    "        self.pilhaTransicoes = [[estadoInicial, fita, 1]]\n",
    "        aceita = False\n",
    "        while (not (len(self.pilhaTransicoes)==0)):\n",
    "            novaPilhaTransicoes = []\n",
    "            for pilha in self.pilhaTransicoes:  \n",
    "                parou = self.validarTransicao(pilha[0], pilha[1], pilha[2], novaPilhaTransicoes)\n",
    "                if(self.isAccepted(pilha[0], parou)):\n",
    "                    aceita = True\n",
    "                    break\n",
    "\n",
    "            if(aceita):\n",
    "                break\n",
    "            self.pilhaTransicoes = novaPilhaTransicoes\n",
    "       \n",
    "        \n",
    "        if(aceita):\n",
    "            print('S')\n",
    "        else:\n",
    "            print('N')"
   ]
  },
  {
   "cell_type": "markdown",
   "id": "pointed-composer",
   "metadata": {},
   "source": [
    "##### Toda vez que for verificar uma nova palavra, o algoritmo transforma a string em uma lista, e é adicionado o símbolo em branco no final da lista, e o símbolo delimitador à esquerda no inicio da lista. O algoritmo irá percorrer a lista de transições até encontrar alguma configuração que a MT aceite, ou até que todas as configurações instantâneas da pilha de transição parem com rejeição da palavra, o que resultaria na pilha de transições ficando vazia."
   ]
  },
  {
   "cell_type": "code",
   "execution_count": null,
   "id": "wooden-blues",
   "metadata": {},
   "outputs": [],
   "source": [
    "L1 = Linguagem()\n",
    "L1.estados = input()\n",
    "L1.simbolos = input()\n",
    "L1.alfabetoPilha = input()\n",
    "L1.limitanteEsquerda = input()\n",
    "L1.simboloBranco = input()\n",
    "numeroTransicoes = int(input())\n",
    "L1.lerTransicoes(numeroTransicoes)\n",
    "estadoInicial = input()\n",
    "L1.estadosFinais = input().split()\n",
    "L1.palavrasTeste = input().split()\n",
    "\n",
    "for words in L1.palavrasTeste:\n",
    "    L1.percorrerPilhaTransicoes(words, estadoInicial)"
   ]
  },
  {
   "cell_type": "markdown",
   "id": "polar-memorabilia",
   "metadata": {},
   "source": [
    "#### Foi utilizado o Visual Studio Code para fazer a implementação e os testes. Os testes foram utilizando redirecionamento de input com o próprio powershell do windows. Utilizou-se o comando: Get-Content 1.in | python mt.py onde 1.in estavam presentes as entradas para o algoritmo."
   ]
  },
  {
   "cell_type": "markdown",
   "id": "artistic-color",
   "metadata": {},
   "source": [
    "## Foram simulados duas máquinas de turing recebendo palavras de tamanho 10, 20, 40, 80, e 160, e obtidos os respectivos tempo de execução em milisegundos (ms), e então, realizou-se uma regressão linear com estes dados.\n",
    "\n",
    "### Para a MT que reconhece a linguagem a^(n)b^(n), obteve-se:\n",
    "![title](images-plotted/1.png)\n",
    "\n",
    "### Para a MT que computa a função f(w) = w^(2) onde w ∈ {1}*:\n",
    "![title](images-plotted/2.png)\n",
    "\n",
    "#### Percebe-se, que para uma dada MT que reconhece uma linguagem L, a tendência é aumentar o tempo de execução do algoritmo de acordo com o aumento do tamanho da palavra de entrada. Porém, a taxa de variação deste tempo de execução vai depender de diversas outras características da MT, tais como: quantidade de estados, quantidade de estados finais, quantidade de transições, etc.\n",
    "\n"
   ]
  }
 ],
 "metadata": {
  "kernelspec": {
   "display_name": "Python 3",
   "language": "python",
   "name": "python3"
  },
  "language_info": {
   "codemirror_mode": {
    "name": "ipython",
    "version": 3
   },
   "file_extension": ".py",
   "mimetype": "text/x-python",
   "name": "python",
   "nbconvert_exporter": "python",
   "pygments_lexer": "ipython3",
   "version": "3.9.1"
  }
 },
 "nbformat": 4,
 "nbformat_minor": 5
}
